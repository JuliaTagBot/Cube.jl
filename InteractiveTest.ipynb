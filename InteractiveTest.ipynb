{
 "cells": [
  {
   "cell_type": "code",
   "execution_count": null,
   "metadata": {},
   "outputs": [],
   "source": [
    "push!(LOAD_PATH, pwd())\n",
    "using Revise"
   ]
  },
  {
   "cell_type": "code",
   "execution_count": null,
   "metadata": {
    "scrolled": true
   },
   "outputs": [],
   "source": [
    "import Cube\n",
    "x = Cube.MagicCube(3)\n",
    "println(Cube.rotate_counterclockwise(x, 1))\n",
    "println(Cube.rotate_counterclockwise(x, 2))\n",
    "println(Cube.rotate_counterclockwise(x, 3))\n",
    "println(Cube.rotate_counterclockwise(x, 4))\n",
    "println(Cube.rotate_counterclockwise(x, 5))\n",
    "println(Cube.rotate_counterclockwise(x, 6))"
   ]
  },
  {
   "cell_type": "code",
   "execution_count": null,
   "metadata": {},
   "outputs": [],
   "source": [
    "import Cube\n",
    "x = Cube.MagicCube(4)\n",
    "println(Cube.slice_counterclockwise(x, 1, 2))\n",
    "println(Cube.slice_counterclockwise(x, 2, 2))\n",
    "println(Cube.slice_counterclockwise(x, 3, 2))\n",
    "println(Cube.slice_counterclockwise(x, 4, 2))\n",
    "println(Cube.slice_counterclockwise(x, 5, 2))\n",
    "println(Cube.slice_counterclockwise(x, 6, 2))"
   ]
  },
  {
   "cell_type": "code",
   "execution_count": null,
   "metadata": {},
   "outputs": [],
   "source": [
    "import Cube\n",
    "x = Cube.MagicCube(3)\n",
    "println(Cube.slice_clockwise!(x, 1, 2))\n",
    "println(Cube.slice_clockwise!(x, 2, 2))\n",
    "println(Cube.slice_counterclockwise!(x, 3, 2))\n",
    "println(Cube.slice_clockwise!(x, 4, 2))\n",
    "println(Cube.slice_counterclockwise!(x, 5, 2))\n",
    "println(Cube.slice_counterclockwise!(x, 6, 2))"
   ]
  },
  {
   "cell_type": "code",
   "execution_count": null,
   "metadata": {},
   "outputs": [],
   "source": [
    "import Cube\n",
    "x = Cube.MagicCube(3)\n",
    "println(Cube.rotate_clockwise!(x, 1))\n",
    "println(Cube.rotate_clockwise!(x, 2))\n",
    "println(Cube.rotate_counterclockwise!(x, 3))\n",
    "println(Cube.rotate_clockwise!(x, 4))\n",
    "println(Cube.rotate_counterclockwise!(x, 5))\n",
    "println(Cube.rotate_counterclockwise!(x, 6))"
   ]
  },
  {
   "cell_type": "code",
   "execution_count": null,
   "metadata": {},
   "outputs": [],
   "source": [
    "collect(3:-1:1)"
   ]
  },
  {
   "cell_type": "code",
   "execution_count": null,
   "metadata": {},
   "outputs": [],
   "source": []
  },
  {
   "cell_type": "code",
   "execution_count": null,
   "metadata": {},
   "outputs": [],
   "source": []
  },
  {
   "cell_type": "code",
   "execution_count": null,
   "metadata": {},
   "outputs": [],
   "source": []
  },
  {
   "cell_type": "code",
   "execution_count": null,
   "metadata": {},
   "outputs": [],
   "source": []
  },
  {
   "cell_type": "code",
   "execution_count": null,
   "metadata": {},
   "outputs": [],
   "source": []
  },
  {
   "cell_type": "code",
   "execution_count": null,
   "metadata": {
    "scrolled": true
   },
   "outputs": [],
   "source": []
  },
  {
   "cell_type": "code",
   "execution_count": null,
   "metadata": {},
   "outputs": [],
   "source": []
  }
 ],
 "metadata": {
  "kernelspec": {
   "display_name": "Julia 1.0.2",
   "language": "julia",
   "name": "julia-1.0"
  },
  "language_info": {
   "file_extension": ".jl",
   "mimetype": "application/julia",
   "name": "julia",
   "version": "1.0.2"
  }
 },
 "nbformat": 4,
 "nbformat_minor": 2
}
